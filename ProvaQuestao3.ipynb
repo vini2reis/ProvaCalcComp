{
 "cells": [
  {
   "cell_type": "code",
   "execution_count": 28,
   "metadata": {},
   "outputs": [],
   "source": [
    "import numpy as np\n",
    "import pylab as plt"
   ]
  },
  {
   "cell_type": "markdown",
   "metadata": {},
   "source": [
    "a: A criança pesa 34 kg\n",
    "A criança tem 1 m e 20 cm de altura.\n",
    "O objetivo do problema é estimar qual será a variação da área superficial se a criança engorda 1 kg e altura\n",
    "permanecer inalterada."
   ]
  },
  {
   "cell_type": "markdown",
   "metadata": {},
   "source": [
    "b:"
   ]
  },
  {
   "cell_type": "code",
   "execution_count": 34,
   "metadata": {},
   "outputs": [],
   "source": [
    "fw = lambda w,h: (0.00306*w**(-0.575)) * h**0.725\n",
    "fh = lambda w,h: 0.00522*w**0.425 * h**(-0.275)"
   ]
  },
  {
   "cell_type": "code",
   "execution_count": 35,
   "metadata": {},
   "outputs": [
    {
     "name": "stdout",
     "output_type": "stream",
     "text": [
      "0.012961333555455532\n",
      "0.006782365086759479\n"
     ]
    }
   ],
   "source": [
    "print(fw(50,163))\n",
    "print(fh(50,163))"
   ]
  },
  {
   "cell_type": "markdown",
   "metadata": {},
   "source": [
    "c:"
   ]
  },
  {
   "cell_type": "code",
   "execution_count": 23,
   "metadata": {},
   "outputs": [],
   "source": [
    "f1 = lambda w,h: (0.0072*w**0.425)*(h**0.725)"
   ]
  },
  {
   "cell_type": "code",
   "execution_count": 30,
   "metadata": {},
   "outputs": [
    {
     "name": "stdout",
     "output_type": "stream",
     "text": [
      "0.0004559273231530478\n"
     ]
    }
   ],
   "source": [
    "print(f1(35,1.20)-f1(34,1.20))"
   ]
  },
  {
   "cell_type": "code",
   "execution_count": null,
   "metadata": {},
   "outputs": [],
   "source": []
  }
 ],
 "metadata": {
  "kernelspec": {
   "display_name": "Python 3",
   "language": "python",
   "name": "python3"
  },
  "language_info": {
   "codemirror_mode": {
    "name": "ipython",
    "version": 3
   },
   "file_extension": ".py",
   "mimetype": "text/x-python",
   "name": "python",
   "nbconvert_exporter": "python",
   "pygments_lexer": "ipython3",
   "version": "3.6.8"
  }
 },
 "nbformat": 4,
 "nbformat_minor": 2
}
